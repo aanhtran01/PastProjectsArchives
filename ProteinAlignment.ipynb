{
  "nbformat": 4,
  "nbformat_minor": 0,
  "metadata": {
    "colab": {
      "name": "ProteinAlignment.ipynb",
      "provenance": [],
      "authorship_tag": "ABX9TyPlOCZqAoBICnQHmJUrybN8",
      "include_colab_link": true
    },
    "kernelspec": {
      "name": "python3",
      "display_name": "Python 3"
    },
    "language_info": {
      "name": "python"
    }
  },
  "cells": [
    {
      "cell_type": "markdown",
      "metadata": {
        "id": "view-in-github",
        "colab_type": "text"
      },
      "source": [
        "<a href=\"https://colab.research.google.com/github/aanhtran01/PastProjectsArchives/blob/main/ProteinAlignment.ipynb\" target=\"_parent\"><img src=\"https://colab.research.google.com/assets/colab-badge.svg\" alt=\"Open In Colab\"/></a>"
      ]
    },
    {
      "cell_type": "markdown",
      "source": [
        "Translating Proteins and Sequence Aligning Them Using Fafsta Files \n",
        "****Note realizing now that translatig straight from the fasta files creates extra characters which the alignment also reads and leads to a higher alignment score ---- so for right now copying the sequence into one long string is more accurate"
      ],
      "metadata": {
        "id": "lPKjz1jRDH9F"
      }
    },
    {
      "cell_type": "code",
      "source": [
        "#install biopython library "
      ],
      "metadata": {
        "id": "9pNRuSThDTu6"
      },
      "execution_count": null,
      "outputs": []
    },
    {
      "cell_type": "code",
      "source": [
        "pip install biopython"
      ],
      "metadata": {
        "colab": {
          "base_uri": "https://localhost:8080/"
        },
        "id": "HSOfuIpLCuTA",
        "outputId": "b66490c4-0937-447c-8679-92d394e6ffcc"
      },
      "execution_count": null,
      "outputs": [
        {
          "output_type": "stream",
          "name": "stdout",
          "text": [
            "Collecting biopython\n",
            "  Downloading biopython-1.79-cp37-cp37m-manylinux_2_5_x86_64.manylinux1_x86_64.whl (2.3 MB)\n",
            "\u001b[K     |████████████████████████████████| 2.3 MB 5.6 MB/s \n",
            "\u001b[?25hRequirement already satisfied: numpy in /usr/local/lib/python3.7/dist-packages (from biopython) (1.21.5)\n",
            "Installing collected packages: biopython\n",
            "Successfully installed biopython-1.79\n"
          ]
        }
      ]
    },
    {
      "cell_type": "code",
      "execution_count": null,
      "metadata": {
        "colab": {
          "base_uri": "https://localhost:8080/"
        },
        "id": "eeVUy3Q2_Ka-",
        "outputId": "c71f73a2-f57d-44d5-bd2a-329338ffc162"
      },
      "outputs": [
        {
          "output_type": "stream",
          "name": "stdout",
          "text": [
            "Mounted at /content/drive\n"
          ]
        }
      ],
      "source": [
        "import numpy as np\n",
        "\n",
        "#mount google drive, to access files from google drive\n",
        "from google.colab import drive\n",
        "drive.mount('/content/drive')"
      ]
    },
    {
      "cell_type": "code",
      "source": [
        "from Bio.Seq import Seq\n",
        "from Bio import pairwise2\n",
        "from Bio import SeqIO"
      ],
      "metadata": {
        "id": "kEEOWTCqDw8f"
      },
      "execution_count": null,
      "outputs": []
    },
    {
      "cell_type": "code",
      "source": [
        "#input fasta files from google drive\n",
        "ST6R_DNA = SeqIO.read ('/content/drive/MyDrive/CaSB 185/CaSB 185 Final Project/Rat-HumanST6GALNAC1/Rat_ST6GALNAC_shortseq.txt', 'fasta')\n",
        "ST6H_DNA = SeqIO.read('/content/drive/MyDrive/CaSB 185/CaSB 185 Final Project/Rat-HumanST6GALNAC1/Human_ST6GALNAC.txt', 'fasta')\n",
        "#Translate the Protein Sequnces \n",
        "ST6R_protein = ST6R_DNA.translate()\n",
        "ST6H_protein = ST6H_DNA.translate()\n",
        "\n",
        "#print the proteins\n",
        "print(ST6R_protein)\n",
        "print(ST6H_protein)"
      ],
      "metadata": {
        "colab": {
          "base_uri": "https://localhost:8080/"
        },
        "id": "Hzo_sD0DAX-m",
        "outputId": "f7a853f8-548b-41c4-8d58-939e72c4eda4"
      },
      "execution_count": null,
      "outputs": [
        {
          "output_type": "stream",
          "name": "stdout",
          "text": [
            "ID: <unknown id>\n",
            "Name: <unknown name>\n",
            "Description: <unknown description>\n",
            "Number of features: 0\n",
            "/molecule_type=protein\n",
            "Seq('SLTLSQR*RAVSSRRAPVVGRYSLQWAVSRVFDLKNLFKVXQIPNCQEPARMRG...KTK')\n",
            "ID: <unknown id>\n",
            "Name: <unknown name>\n",
            "Description: <unknown description>\n",
            "Number of features: 0\n",
            "/molecule_type=protein\n",
            "Seq('SLTWSQS*RAVSSRRAPVVGRYILQWAPSRVLDLRNLXKXPQTPNCQEAARITG...RTK')\n"
          ]
        },
        {
          "output_type": "stream",
          "name": "stderr",
          "text": [
            "/usr/local/lib/python3.7/dist-packages/Bio/Seq.py:2983: BiopythonWarning: Partial codon, len(sequence) not a multiple of three. Explicitly trim the sequence or add trailing N before translation. This may become an error in future.\n",
            "  BiopythonWarning,\n"
          ]
        }
      ]
    },
    {
      "cell_type": "code",
      "source": [
        "ST6alignments = pairwise2.align.globalxx(ST6R_protein, ST6H_protein)\n",
        "from Bio.pairwise2 import format_alignment\n",
        "print(format_alignment(*ST6alignments[0]))\n",
        "protein_length = len(ST6R_protein)\n",
        "f'Length of protein is:  {protein_length}'"
      ],
      "metadata": {
        "colab": {
          "base_uri": "https://localhost:8080/",
          "height": 312
        },
        "id": "hM5jc1pnB8Xi",
        "outputId": "f98e3e4e-26dc-4806-ee74-3c9149805c7f"
      },
      "execution_count": null,
      "outputs": [
        {
          "output_type": "stream",
          "name": "stdout",
          "text": [
            "ID: <unknown id>\n",
            "Name: <unknown name>\n",
            "Description: <unknown description>\n",
            "Number of features: 0\n",
            "/molecule_type=protein\n",
            "Seq('SLTL-SQR-*RAVSSRRAPVVGRYS-LQWAV-SRVF-DLK-NLF-KVX-QI-PNCQEPARM-R--G...K-TK')\n",
            "||||||||||||||||||||||||||||||||||||||||||||||||||||||||||||||||||||||||||||||||||||||||||||||||||||||||||||||||||||||||||||||  ||  |||||||||||||||  ||||  |||  ||  ||  | | |  ||||| |   |  ||||  ||||\n",
            "ID: <unknown id>\n",
            "Name: <unknown name>\n",
            "Description: <unknown description>\n",
            "Number of features: 0\n",
            "/molecule_type=protein\n",
            "Seq('SLT-WSQ-S*RAVSSRRAPVVGRY-ILQWA-PSRV-LDL-RNL-XK-XPQ-TPNCQE-A--ARITG...-RTK')\n",
            "  Score=172\n",
            "\n"
          ]
        },
        {
          "output_type": "execute_result",
          "data": {
            "application/vnd.google.colaboratory.intrinsic+json": {
              "type": "string"
            },
            "text/plain": [
              "'Length of protein is:  203'"
            ]
          },
          "metadata": {},
          "execution_count": 53
        }
      ]
    },
    {
      "cell_type": "code",
      "source": [
        "#I think the alignment score that says \"Score 172\" is the number of matches? I counted the tick marks and it matched up to 172 "
      ],
      "metadata": {
        "id": "ruDvEpKQE0Nc"
      },
      "execution_count": null,
      "outputs": []
    },
    {
      "cell_type": "code",
      "source": [
        "#identity percentage is score/protein_length times 100\n",
        "Percentage_Match = (172/protein_length)*100\n",
        "f'Protein match percentage is: {Percentage_Match}%'"
      ],
      "metadata": {
        "colab": {
          "base_uri": "https://localhost:8080/",
          "height": 37
        },
        "id": "lbvvDgV6FhO1",
        "outputId": "085bf897-9d1f-4f76-adfc-582743e5e46a"
      },
      "execution_count": null,
      "outputs": [
        {
          "output_type": "execute_result",
          "data": {
            "application/vnd.google.colaboratory.intrinsic+json": {
              "type": "string"
            },
            "text/plain": [
              "'Protein match percentage is: 84.72906403940887%'"
            ]
          },
          "metadata": {},
          "execution_count": 32
        }
      ]
    },
    {
      "cell_type": "markdown",
      "source": [
        "Translating Proteins without Fasta Files (ie: Copying them into a verying long string lol)"
      ],
      "metadata": {
        "id": "ADrJxYVHG_-E"
      }
    },
    {
      "cell_type": "code",
      "source": [
        "human_ST6DNA = Seq(\"AGCCTTACCTGGTCACAGAGCTGAAGGGCAGTGAGCAGCAGGAGGGCCCCAGTGGTGGGGCGGTATATCCTCCAGTGGGCACCATCCAGGGTCTTAGACCTCAGAAACCTGTNGAAANTGCCCCAAACCCCCAACTGTCAGGAGGCTGCAAGGATAACAGGGACCTGGGCTACGTGTCACGTGCTTTCTGCTCTAACCTGTTCTTCATGTATCGGAGAAAGTCTGGGTGCAGCAACAGGTACCTGTCCATGTGCAGGGCTTCCCGAAAAGCTTCCTGGGGTCTGTGCCTGTGGTTAGGAAGGGGTCATTCAGNACTCANGCTCCCTTACCTGGTCTGGGGTGGGCCAAGTCAGGGTCATGAGCATGACTGGTATCCCATCTCCAGGTGATAGCTAAGGCTGTCCCCACCTGTCCAACCCTTTAGANGCCACTCANTGACATGGCNNTCNAGCCTGGNNGNATAAGGGGATGGCAGGAGGACAGTGGGTACCTGAACCAGAAAAGGTTNNTNTTTGACATCACCGTCTGATTCATAAGCAGTGCTTCCAGCCACTCATAGTCCCGGGTGCCTTCCAGGAAGTGCAAGTAGCGGACGTCCTGAGGACCAAGGA\")\n",
        "print(human_ST6DNA.translate())\n",
        "human_ST6protein = human_ST6DNA.translate()"
      ],
      "metadata": {
        "colab": {
          "base_uri": "https://localhost:8080/"
        },
        "id": "RjTRAI0GHV33",
        "outputId": "82bdc1ea-0244-48a6-8c68-d6de2adada8a"
      },
      "execution_count": null,
      "outputs": [
        {
          "output_type": "stream",
          "name": "stdout",
          "text": [
            "SLTWSQS*RAVSSRRAPVVGRYILQWAPSRVLDLRNLXKXPQTPNCQEAARITGTWATCHVLSALTCSSCIGESLGAATGTCPCAGLPEKLPGVCACG*EGVIQXSXSLTWSGVGQVRVMSMTGIPSPGDS*GCPHLSNPLXATX*HGXXAWXXKGMAGGQWVPEPEKVXX*HHRLIHKQCFQPLIVPGAFQEVQVADVLRTK\n"
          ]
        },
        {
          "output_type": "stream",
          "name": "stderr",
          "text": [
            "/usr/local/lib/python3.7/dist-packages/Bio/Seq.py:2983: BiopythonWarning: Partial codon, len(sequence) not a multiple of three. Explicitly trim the sequence or add trailing N before translation. This may become an error in future.\n",
            "  BiopythonWarning,\n"
          ]
        }
      ]
    },
    {
      "cell_type": "code",
      "source": [
        "rat_ST6DNA = Seq(\"AGCCTTACCTTGTCACAGAGATGAAGGGCTGTAAGCAGCAGGAGGGCACCAGTGGTGGGGCGGTATAGTCTCCAGTGGGCAGTGTCCAGGGTCTTTGACCTCAAAAACCTGTTCAAAGTAGNCCAGATTCCCAACTGTCAGGAGCCAGCCAGGATGAGAGGCACCCGGCCCCCCTGTNNNGGGCTTCCTACTCTTACCTGTTCTTCATGTAACGGAGAAAGTCTGGGTGTACCAGAAAGTATCGATCCAAGTCCAAGGCCTCTCTAAAGGCTTCCTGGGGTCTATGCCTGCGGCCAGAGATGGATCACTCAGGCCCCATTCTCTCNTNCTGGGGCCGTTGGAGGCCAAGTCATGGTCATGNGTGTGACCGCTTTCCCATCACCACGTGGCANCAGAGGCAGTNCCTACCTGACTAACCTTTTTGAAATCACTCACCCACTTCTCAGTCTGGCCGGGTTGTTTCAGGGGCTGGNAGGNGGAAAGTGGTTACCTGAACCAGTAAAGTTTAGTATTTGNCNNCATGGTCCGATTCAAGAACATAGCTTCCAGCCACTCATAGTCCCGGGTGCCTTCCAGGAAGTGTAGATATCGGACATCCTGAAGACCAAGGA\")\n",
        "print(rat_ST6DNA.translate())\n",
        "rat_ST6protein = rat_ST6DNA.translate()"
      ],
      "metadata": {
        "colab": {
          "base_uri": "https://localhost:8080/"
        },
        "id": "keuPH-VEILF_",
        "outputId": "d3c8b320-3f68-4663-a4b1-7c225bed5f5c"
      },
      "execution_count": null,
      "outputs": [
        {
          "output_type": "stream",
          "name": "stdout",
          "text": [
            "SLTLSQR*RAVSSRRAPVVGRYSLQWAVSRVFDLKNLFKVXQIPNCQEPARMRGTRPPCXGLPTLTCSSCNGESLGVPESIDPSPRPL*RLPGVYACGQRWITQAPFSXXGAVGGQVMVMXVTAFPSPRGXRGSXYLTNLFEITHPLLSLAGLFQGLXGGKWLPEPVKFSIXXHGPIQEHSFQPLIVPGAFQEV*ISDILKTK\n"
          ]
        },
        {
          "output_type": "stream",
          "name": "stderr",
          "text": [
            "/usr/local/lib/python3.7/dist-packages/Bio/Seq.py:2983: BiopythonWarning: Partial codon, len(sequence) not a multiple of three. Explicitly trim the sequence or add trailing N before translation. This may become an error in future.\n",
            "  BiopythonWarning,\n"
          ]
        }
      ]
    },
    {
      "cell_type": "code",
      "source": [
        "from Bio import pairwise2\n",
        "alignment2 = pairwise2.align.globalxx(rat_ST6protein, human_ST6protein)\n",
        "from Bio.pairwise2 import format_alignment\n",
        "print(format_alignment(*alignment2[0]))"
      ],
      "metadata": {
        "colab": {
          "base_uri": "https://localhost:8080/"
        },
        "id": "EnpJ7Lu4IrGj",
        "outputId": "35cf79c6-194e-4a1d-8f1d-00f66f0def19"
      },
      "execution_count": null,
      "outputs": [
        {
          "output_type": "stream",
          "name": "stdout",
          "text": [
            "SLTL-SQR-*RAVSSRRAPVVGRYS-LQWAV-SRVF-DLK-NLF-KVX-QI-PNCQEPARM-R--GTRPP---CXG--LPT--LTCSSCN-GESLGVPESIDPSPR------P---L*R---LPGVY-ACGQRW----ITQAPFSX-X-----GAVGGQVM-VMXV--TAF--PSPRGXRG-SXYLTNLFEITH---PL-LS--L-AGLFQ----GLX------G--GK--WL-PEPV-KFSI-XX-HGP---IQEHS---FQPLIVPGAFQEV*IS---DI-LK-TK\n",
            "|||  ||  |||||||||||||||  ||||  |||  ||  ||  | | |  ||||| |   |  ||      |    |    ||||||  |||||                |   |     ||||  |||       | |    | |     | | |||  ||    |    |||    | |              |  ||  | |        | |      |  |   |  |||  |    || |     |  |    |||||||||||||      |  |  ||\n",
            "SLT-WSQ-S*RAVSSRRAPVVGRY-ILQWA-PSRV-LDL-RNL-XK-XPQ-TPNCQE-A--ARITGT---WATC--HVL--SALTCSSC-IGESLG----------AATGTCPCAGL--PEKLPGV-CACG---*EGVI-Q----XSXSLTWSG-V-GQV-RVM--SMT--GIPSP----GDS-----------*GCP-HLSNPLXA----TX*HG-XXAWXXKGMAG-GQW-VPEP-EK---VXX*H--HRLI--H-KQCFQPLIVPGAFQEV---QVAD-VL-RTK\n",
            "  Score=118\n",
            "\n"
          ]
        }
      ]
    },
    {
      "cell_type": "code",
      "source": [
        "ST6protein_len = len(rat_ST6protein)\n",
        "f'Length of protein is:  {ST6protein_len}'\n",
        "Percen_Match = (118/ST6protein_len)*100\n",
        "f'Protein match percentage is: {Percen_Match}%'"
      ],
      "metadata": {
        "colab": {
          "base_uri": "https://localhost:8080/",
          "height": 37
        },
        "id": "YbxTrQXUcrYn",
        "outputId": "83249b30-7354-4572-83c6-c6f5ea39c7a9"
      },
      "execution_count": null,
      "outputs": [
        {
          "output_type": "execute_result",
          "data": {
            "application/vnd.google.colaboratory.intrinsic+json": {
              "type": "string"
            },
            "text/plain": [
              "'Protein match percentage is: 58.128078817733986%'"
            ]
          },
          "metadata": {},
          "execution_count": 55
        }
      ]
    },
    {
      "cell_type": "markdown",
      "source": [
        "CYP2D Gene"
      ],
      "metadata": {
        "id": "Axk9rOYTKLyD"
      }
    },
    {
      "cell_type": "code",
      "source": [
        "human_CYP2D6_dna = Seq(\"CACAGCACAGAGCTGGTANGGGCAAGGGGGCAACTGGAAAAGCAAAGAAGCCATGGGTGCTGGGCCGGGGCTGTCCGACGGGCACGGAGAAGCTGAAGCGCTGCAGGAGGCAGGTGAAGAAGAGGAAGAGCTCCATGCGGGCCAGGGGCTCCCCAAGGCATGCTCTGCGGCCTGTGGGTGGGACAGGGGCNTCAGTNNNNCTGGGGCCTGATTGGAGCTCCACCCTCCCTGTCACCCTGGGAATCGACAGGGAGTCAGGCCCCCCAGAGGTACCTGCTGAGAATGGCATGAAGGCCTCATGCTTCACAAAGTTGCCCTGGGCATCCAGGAAGTGTTCTGGATGGAAGCGGTGGGGCTTCTCCCAGACGGTCTCATCCTTCAGCACGGACGACAGGTTGATGATGAGGGTCGTCCCCTGGNCAG\")\n",
        "f'Human CYP2D6 protein is {human_CYP2D6_dna.translate()}'\n",
        "human_CYP2D6_protein = human_CYP2D6_dna.translate()\n",
        "rat_CYP2D6_dna = Seq(\"CACAGCACAAAGCTCATAGGGGGATGGGCTCACCAGGAAANGCAAAGACACCATGGTGGCTGGGCCGGGGCTGTCCAGTGGGCACCGAGAAGCTGAAGTGCTGCAGCAGGGAGGTGAAGAAGAGGAAGAGCTCCATGCGGGCCAGGGGCTCCCCGAGGCATGCACGGCGGCCTGTGGGGAGGGGAGGGGCGTCAGTGAGCCTGGCTCCTGGGTGNANNTACNCCCTGCAAGACTCCACGGAAGGGGACAGGGAGCCGGGCTCCCCACAGGCACCTGCTGAGAAAGGCAGGAAGGCCTCCGGCTTCACAAAGTGGCCCTGGGCATCCAGGAAGTGTTCGGGGTGGAAGCGGAAGGGCTTCTCCCAGACGGCCTCATCCTTCAGCACCGATGACAGGTTGGTGATGAGTGTCGTTCCCTGGGCAG\")\n",
        "f'Rat CYP2D4 protein is {rat_CYP2D6_dna.translate()}'\n",
        "rat_CYP2D6_protein = rat_CYP2D6_dna.translate()"
      ],
      "metadata": {
        "id": "d2_1zDEqKLI_"
      },
      "execution_count": null,
      "outputs": []
    },
    {
      "cell_type": "code",
      "source": [
        "from Bio import pairwise2\n",
        "alignments = pairwise2.align.globalxx(human_CYP2D6_protein, rat_CYP2D6_protein)\n",
        "from Bio.pairwise2 import format_alignment\n",
        "print(format_alignment(*alignments[0]))"
      ],
      "metadata": {
        "colab": {
          "base_uri": "https://localhost:8080/"
        },
        "id": "yKtD9tIqMO32",
        "outputId": "51b40874-e827-468e-84fe-7c1539eac4eb"
      },
      "execution_count": null,
      "outputs": [
        {
          "output_type": "stream",
          "name": "stdout",
          "text": [
            "HSTE-LVXAR-G----QLEK-QRSH-GC-WAGAVRR--AR-RS*SAAG-GR*RRGRAPCGPGAPQ-GMLC-G-LWVGQGX---QXX--WGLI-GAP---PSLS---PWES---TGSQ-APQ-RY-LLRM-A*-RPH-ASQSC-PGHPGSVLD-GSG-G-ASPRRS-HPSART--TG*-**GS-S-PGQ\n",
            "|||  |     |    | |  || | |  |||||    |  ||||||  |||||||||||||||  ||   | || | |    |    | |  |     |      |      |||  ||  |  |||  |  ||  ||||  |||||||   | | | |||||  ||||    ||  ||   | |||\n",
            "HST-KL----IGGWAHQ-E-XQR-HHG-GWAGAV--QWA-PRS*SAA-AGR*RRGRAPCGPGAP-RGM--HGGLW-G-G-EGRQ--*AW-L-LG--XXTP---CKTP---RKGTGS-RAP-HR-HLLR-KA-GRP-PASQS-GPGHPGSV--RG-GSGRASPRR-PHPSA--PMTG-W**--VSFPGQ\n",
            "  Score=94\n",
            "\n"
          ]
        }
      ]
    },
    {
      "cell_type": "code",
      "source": [
        "#finding the percentage of similar proteins \n",
        "CYP2D_Percen_Match = (94/len(rat_CYP2D6_protein))*100\n",
        "f'Protein match percentage is: {CYP2D_Percen_Match}%'"
      ],
      "metadata": {
        "colab": {
          "base_uri": "https://localhost:8080/",
          "height": 37
        },
        "id": "j-lgA5WAMO0U",
        "outputId": "40c6a121-8eb1-4407-9230-19c4900ac3c9"
      },
      "execution_count": null,
      "outputs": [
        {
          "output_type": "execute_result",
          "data": {
            "application/vnd.google.colaboratory.intrinsic+json": {
              "type": "string"
            },
            "text/plain": [
              "'Protein match percentage is: 66.66666666666666%'"
            ]
          },
          "metadata": {},
          "execution_count": 10
        }
      ]
    },
    {
      "cell_type": "markdown",
      "source": [
        "CACNA1 Gene"
      ],
      "metadata": {
        "id": "imeqdCpkMw10"
      }
    },
    {
      "cell_type": "code",
      "source": [
        "human_CACNA1_dna = Seq(\"CTCAGGATGATATTTTCCAGTTCCAACCATTTGCCTACGAATTTCATAAACTCGTTGTTTTTGATAGCTGAGTAATATTCCATTGTGTAGATGTACCACATTTTCTGTGTCCATTCCTCTGTTGAAGGGCATCTGGGTTCTTTCCATTTTCTGGCTATTATAAATAAGGCTGCGATGAACATAGTGGAGCATGTGTCTCTTTNNNTATATGTTGAGGCATCTTTTGGGTATATGCCCAAGAGAGGTATAGCTGGATCCTCA\")\n",
        "f'Human CACNA1 protein is {human_CACNA1_dna.translate()}'\n",
        "human_CACNA1_protein = human_CACNA1_dna.translate()\n",
        "rat_CACNA1_dna = Seq(\"CTTAGCATAATGTCTTCAAGGTTCATCCACGTTGTACCATGTGTCAGGACTTCGTTCCTTTTTATGGCTGAATAGTATTTCATTGAAAGCACACGCCACATTTTGCTTATCCATTCTTCTGTTGATGGACACTTGCGNNNTTTTCACCTTTTGGCTATTGTGAATGGTGCTGCAATGAACACCAGTATTCAAGTATCTATTTGAATCCATTTTTAGTTANNTTTTGGGTTTANNCCTAGGAGTGGAATTGCTGGCCCTGCA\")\n",
        "f'Rat CACNA1 protein is {rat_CACNA1_dna.translate()}'\n",
        "rat_CACNA1_protein = rat_CACNA1_dna.translate()\n",
        "from Bio import pairwise2\n",
        "alignments = pairwise2.align.globalxx(human_CACNA1_protein, rat_CACNA1_protein)\n",
        "from Bio.pairwise2 import format_alignment\n",
        "print(format_alignment(*alignments[0]))\n",
        "#finding the percentage of similar proteins \n",
        "CACNA1_Percen_Match = (47/len(rat_CACNA1_protein))*100\n",
        "f'Protein match percentage is: {CACNA1_Percen_Match}%'"
      ],
      "metadata": {
        "colab": {
          "base_uri": "https://localhost:8080/",
          "height": 142
        },
        "id": "WAyD-82VRobT",
        "outputId": "a5da222a-916d-4807-8236-53008b723302"
      },
      "execution_count": null,
      "outputs": [
        {
          "output_type": "stream",
          "name": "stdout",
          "text": [
            "LRMIFS--SSN---HL--P---TNFINSLFLI--AE*YS-IV*MY----HIFCV---HSSVE-GHLGS--FHFL-AII-NK-AAMN--IVEH-VS------LXXYVEASFGYM--PKR-GIAGSS--\n",
            "|    |  ||    |   |   |    | ||   ||||  |        ||      ||||  |||    || | | | |  ||||  |    ||      | |     ||    | | ||||    \n",
            "L----SIMSS-RFIH-VVPCVRT----S-FL-FMAE*Y-FI----ESTRHI---LLIHSSV-DGHL--RXFH-LLA-IVN-GAAMNTSI---QVSI*IHF*L-X-----FG--FXP-RSGIAG--PA\n",
            "  Score=47\n",
            "\n"
          ]
        },
        {
          "output_type": "execute_result",
          "data": {
            "application/vnd.google.colaboratory.intrinsic+json": {
              "type": "string"
            },
            "text/plain": [
              "'Protein match percentage is: 54.02298850574713%'"
            ]
          },
          "metadata": {},
          "execution_count": 4
        }
      ]
    },
    {
      "cell_type": "markdown",
      "source": [
        "CHST11 Gene"
      ],
      "metadata": {
        "id": "Btzri0-LSqlz"
      }
    },
    {
      "cell_type": "code",
      "source": [
        "human_CHST11_dna = Seq(\"TCTGTGTGTGTGTATGCATGTGTGTGCGTATGTGTATGCGTGTGTATGTGTGTGTATGTGTCTGTGTGTGTGTATGCATGTGTGTGCGTATGTGTATGCGTGTGTATGTGTGTGTATGTGTATGCATGTATGTGTGTATGCATGTGTATGAGTGTGTGTATGTGTGTCCGTGTATATGTGTGTGTATCTCTGTGTGTATATGTGTGTATGTGTGCGTGTATGTGTGTGTATGCGTGTGTATGTGTGTGTATGNNNNNNNTATGCGTATGTATGCGTATGTGTGTATGTATGTGTGNNCATGTATGTGTGTGTGCGTGTGTATGTGTGTGTGTATGTGTGCGTGTATGTGTATGCGTCTGTGTATGCGTATGTGTGTGTATGTGTGTATGNNTGTGCGTGTATGTGTGTATGTGTACGCNNGTGTGTGTGTGTGTGTGTGTGTGTGTGTGTGTCTATACACATACC\")\n",
        "f'Human CHST11 protein is {human_CHST11_dna.translate()}'\n",
        "human_CHST11_protein = human_CHST11_dna.translate()\n",
        "rat_CHST11_dna = Seq(\"TCTGTGTGTCTATGTGTGTGTGTCTGTGTATGTTTGTGTGTCTGTGTCTGTGTGTCTATGCGTGTGTCTCTGTGTGTCTGTGTGTGTCTACATGTGTGTGTGTCTGTGTGTCTATGTGTCTNNNNATGTATATGCCTATGTGTGTGTCTCTGTGTGTGTCTGTGTNNNNGTGTCTATATGTGTGTCTCAGTGTGTGTCTGTGTCTGTGTGTCTGTGTCTATGTGTGTGTCTGTGTGTCTATATGTGTGTGTGACGTGTCTATGTGTGTGTGTCTGTCTGTGTGTCTCTCTGTGTGTCTATGTGTGTGTGTCTGTGTATGTTTGTGTGTCTGTGTCTGTGTGTCTATGCGTGTGTCTCTGTGTGTCTGTGTGTGTCTACATGTGTGTGTGTCTGTGTGTCTATGTGTCTATGTATATGCCTATGTGTGTGTCTCTGTGTGTGTCTGTGTGTGTCTATATGTGTGTC\")\n",
        "f'Rat CHST11 protein is {rat_CHST11_dna.translate()}'\n",
        "rat_CHST11_protein = rat_CHST11_dna.translate()\n",
        "from Bio import pairwise2\n",
        "alignments = pairwise2.align.globalxx(human_CHST11_protein, rat_CHST11_protein)\n",
        "from Bio.pairwise2 import format_alignment\n",
        "print(format_alignment(*alignments[0]))\n",
        "#finding the percentage of similar proteins \n",
        "CHST11_Percen_Match = (94/len(rat_CHST11_protein))*100\n",
        "f'Protein match percentage is: {CHST11_Percen_Match}%'"
      ],
      "metadata": {
        "colab": {
          "base_uri": "https://localhost:8080/",
          "height": 142
        },
        "id": "jCOPegeISqYl",
        "outputId": "24d56088-175e-420c-cf92-f71545a4250c"
      },
      "execution_count": null,
      "outputs": [
        {
          "output_type": "stream",
          "name": "stdout",
          "text": [
            "SVCVYA-CVCVCVCV-CM-CVY-VS--V--CVYACVC--VCVC-VCM-CVYVYACM--CV-CM-CMSVCM-CVRVYVCVSLC--VYVCMCACMCVYA--CVCVC----MXXXCV--CMRM---CV-CM-CXHVCVCA-CV--CVC-VCVR-VC-VCVC-VC-VC--VCM-CVXX--CVYVCMCTXVCV-CV--------CV--CV--CVYTHT---\n",
            "|||    |||||||  |  ||  ||  |  ||  |||  |||  ||  |  |      |  |  |  ||  |    ||  ||  ||      |||    |||||    |   ||  |      || |  |  ||||  ||  ||  |||  |  |||  |  ||  ||  ||    |||  ||  ||  ||        ||  ||  |||      \n",
            "SVC---LCVCVCVC-LC-VCV-CVSMRVSLCV--CVCLHVCV-SVC-LC--V----XXC-IC-LC--VC-LC----VC--LCXXVY------MCV--SVCVCVCVSVSM---CVSVC---LYVCVTC-LC--VCVC-LCVSLCV-YVCV-SV-YVCV-SV-SVCLCVC-LCV--SVCVY--MC--VC-LCVYVSMYMPMCVSLCVSVCVY---MCV\n",
            "  Score=94\n",
            "\n"
          ]
        },
        {
          "output_type": "execute_result",
          "data": {
            "application/vnd.google.colaboratory.intrinsic+json": {
              "type": "string"
            },
            "text/plain": [
              "'Protein match percentage is: 60.64516129032258%'"
            ]
          },
          "metadata": {},
          "execution_count": 15
        }
      ]
    },
    {
      "cell_type": "markdown",
      "source": [
        "BTG1 Protein"
      ],
      "metadata": {
        "id": "zy74CFIrTX3-"
      }
    },
    {
      "cell_type": "code",
      "source": [
        "human_BTG1_dna = Seq(\"ATGCATCCCTTCTACACTCGGGCCGCCACCATGATAGGCGAGATCGCCGCCGCGGTGTCCATGCATCCCTTCTACACTCGGGCCGCCACCATGATAGGCGAGATCGCCGCCGCGGTGTCCAGCCAGAGCCTGCAGGAACTGCTGGCAGGTGAGCNNNNNNNNNNNNNNNNNNNGGGTCACGGGACCCGNNNNTCGCGGGGTCGNNNNNNNCCACTATAGGGGCNNNNNNNNNNNNNNNNNNGCGTCCCGGGNNNNNNNTCGTGGCTGGGNNNNNNNNNNNNNNNNNNNNNNNNNNNNNNNGGGGGGNNNNNNNNNNNNNNNNNNNNNNNNNNNNNNNNGGGGCTGGGCGGNAGGGCGCCNNNNNNNNNNNNNNNNNNNNNNNNNNNNNNNNNNNNNGGGACACGCACAACAAAGGATCCGAAGCGGTGCGACGCGGNNNAGCTGCGCCCCGACGGCTACCGGCGGGTCGGGGAACAAAAGACCCANNNGGGCCCGGAGTCCGGTCANNNNGTCCCCTCTGCNNNCAGGTCGCCGCGACCGTTGCGNGGGTCGGCGGCTGAGCTCCTGAGTGGGCCGCCGTTCCTCTGACCCGNNNACCCGGCCCGGGACGGACGTGCCAGGGCTCCGCACCTCCTACTCTTGCCCATTAATCATCGGATTTGTCACCGGTACAATTANNNCAACCCAGCCCAGATCTTGGTTTAGAGTTTCTTGGTTTTCTTTCCTTTGGGGTTAACTGACCAGTGGCGTTTCTTAACCCCAAAGCCATAAAGTCTATTGTATGCNACCCCGGTTGGGGTGGAGAAAGTAAACAGGTTCCCGCCCGGTCGCCTGTGCCTTNTAGCTAGTTGGCCATCCCGGGCTGCGCGCGCGATTCCTGTTTTNGGCGGCTCAACCGGTCAGTACCCGGACAGTGTTTNNNNNNNNGCCACACTGCGCTNNNNNNNNNNNNNNNNNNNNNNTTTCTCCATTCGGTCNNNNNNTCGCAAGAGCGAATTCAGTCCCGGACATTTGTAAAAGTTGGTGGTTTTGGTTTTCGCTTCTCCAAGAAGCTGACAGGAGGAGGAAAGTACAGTACGGCTTAACGGTTCTAAGCATTGTTTCTGTNNNNNNNTCTTTCCTTCCACAGAGCATTACAAACATCACTGGTTCCCAGAAAAGCCGTGCAAGGGATCAGGTTACCGTTGTATTCGCATCAACCATAAGATGGATCCTCTGATTGGACAGGCAGCCCAGCGGATTGGACTGAGCAGTCAAGAGTTGTTCAGGCTTCTCCCAAGTGAACTCACACTCTGGGTTGACCCCTACGAAGTGTCCTACAGGATTGGAGAGGATGGCTCCATCTGTGTGCTGTATGAAGCCTCACCAGCGGGAGGTAGCTCTCAAAACAGCACCAACGTGCAAATGGTAGACAGCAGAATCAGCTGTAAGGAGGAACTTCTCTTGGGCAGAACAAGCCCTTCCAAAAACTACAATATGATGACTGTATCAGGTTAAGATATAGTCTATGGATGGATCATCTTATAATNGATGGATAGATTTGANTTTTTGCTTTGGGTGGGCTCCTCTTGGGGATGGATTATGGAATNNNNNAACCATGTCACAGCTGTGAAGATCTGGCACAAGATAGAGTGGTAATAATTTTTTTTTTTATAAGTGACAGTGCCATAGTTTGGACAGTACCTTTAAGTGNNNNNNATTTAAGTAGCCTGTGAGTCCAAGTAAAGGATCACTTTATTTGGTAGGGAGTGAAGTCGCAGGGTGGTTTCAGTTTCTCCCAGACATACCCAATTTGTCACACCAGTCCCTTTAAGGAAATTCTGTATTTCAAAGAACCCTCTTTTGCAGTCAACCTTGCAGGGGAATTTGCACTANTTACACTTGAAAGTTACCAGTAACTTTTTTTTTGGCAGCNNNNTCAATAGGAAAGCTCAATGTTCTAAGCATGGTAGTACTGGAAATATTACAAGACTTTTACCTAGCACTTAAAAATGTATAAATGTACATAAAGACNNNACTTAGTACGCATGACCTNGGGGAAATGGTCAGACCNNNNNNNTTGTGTTTTTGGCTTTGAGAGTAGCAAGTGACCGGAATCTGCCATGACAACAGGCTTTNNNNNTAAGACCCTTACAAAGACACTGTCTCAACTGTGNNNNGTTAGCACCAGCCAGCTCTCTGTACATTCNNNNNNGCTTGTAGTTTTCTAAGATTGAGTAAACTTCTTATTTTTAGAAAGTGGAGGTCTGGTTTGTAACTTTCCTTGTACTCAATTGGGTAAGAGTCNTTTTCCACAAACCGCCATCTATTTTGTGAACTTTGTTAGTCATCTTTTATNTTGGTAAATTATGAACTGGTGTAAATTTGTACAGTTCATGTATATTGATTGTGGCAAAGTTGTACAGATTTCTATATTTTGGATGAGAAATTTTTCTTCTCTCTATAATAAATTGTTTCTTATCTTGGCATTTT\")\n",
        "f'Human BTG1 protein is {human_BTG1_dna.translate()}'\n",
        "human_BTG1_protein = human_BTG1_dna.translate()\n",
        "rat_BTG1_dna = Seq(\"ATGCATCCCTTCTACACCCGGGCCGCCACCATGATAGGCGAGATCGCCGCCGCCGTGTCCTTCATCTCCAAGTTTCTCCGCACCAAGGGGCTCACGAGCGAGCGACAGCTGCAGACCTTCAGCCAGAGCCTGCAGGAGCTGCTGGCAGGTGAGCCGAGGGCGAGGGCGTCGGAGGGACGCGGGCCCCAACCATCCCTGGGTCAGCGAGTCCGGCCGTCGGGGCCGTGCGGGAACCTCGGCAGCGCCCCGGGACGCCGGTCGCGCTTGGGCCCCCCGCCGCGGGACCGGTGTGGTTGCGCTGGGTGGCCCCGCTAACAGCGGTTCCCCGCGAGGCTTTAGGGGCTGGACGGGAGGGCGCCCGCCCTTCCCCCCAGCTGGCAAAACGGAGAGGAGAAGACAACACGCACAACAAAGAAACTTAAGCCCACCGAGGCGGTCGAGCTGCGGTCCGAGGACCGTCGGCGGATTTGGGGACAAAGGAGCCGCTTGGGGCTGGGGTGGGTTCGCTACGTCCCCTTTCCGGTCAGCCCCCTCCAACCGTTGCGTTGGTCGGCGGCCCAGCCCCGGGGTGGGAAGCTGCGCCGCTGCCCCGTCGAGCCAGCTCAGAACGGACGTGCCGTCTCCCCGCGCCTCCTGCCCCTGCCCATTAATCATCGGATTTGTCACCGGCACAATTAGTACAGCCCTGCCCAGAGCGTGGTTTAGGGTTGCTTGTTTTTCTTCCCTTCGGGGTTAACAGTCCGGTGGCGCTTCTCATCTCCAAAGCCATCAACTCCATTGTGTGCCATCTGGGGTGGGGTGGAGAAAGTAAACAGTTTCTCGCCTGGCCATAGGTGCCAGGTGGCTTCCCGACTGGCCGAGGCTGCGCGCCTGATTCCTGTTTTAGGCGGCTCAACCGGTTGGTTCCTGGAGATTGTTTCATGTCCGGTACTACTGTGTTAAATTTCTAAAACCCTGCCCGCTTTTTCCATCCCCGCAGACATGCACAACAACGGATGCAATCCTGGACATTTTAAAAAGTTGATAGTTTTCATTTTCGCTCCTCAAAGGAGCCTGGGGTAGGAGGAATCCGCAGTGGGAGCTAACGATCCTAAGCGTTGTTTCTCTAAGTTCTTCTTTTCTTCTATAGAACATTATAAACATCACTGGTTCCCAGAAAAGCCATGCAAGGGATCGGGTTACCGTTGTATTCGCATCAACCATAAAATGGATCCTCTGATTGGACAGGCAGCACAGCGGATTGGACTGAGCAGTCAGGAGCTGTTCAGGCTTCTCCCAAGTGAACTCACACTCTGGGTTGACCCCTATGAAGTGTCCTACAGAATTGGAGAGGATGGCTCCATCTGTGTGCTGTATGAAGCCTCACCAGCAGGAGGTAGCACTCAAAACAGCACCAACGTGCAAATGGTAGACAGCCGAATCAGCTGTAAGGAGGAACTTCTCTTGGGCAGAACGAGCCCTTCCAAAAACTACAATATGATGACTGTATCAGGTTAAGATATAGTCTGTGGATGGATCATCTGATGATCGATGGATAAATTTGAATTTTTGCTTTGGGTGGGCTCCTCTTGGGGATGGATTATGGAATTATTAAACCATGTCACAGCTGTGAAGATCTGGCACAAGATAGAATGGTAAAAAAAAAAAAAATTTTAAGTGACAGTGCCATAGTTTGGACAGTACCTTTCAATGTCATTAATTTTAATAGCCTGTGAGTCCAAGTAAATGATCACTTTATTTGCTAGGGAGGGAAGTCCTAGGGTGGTTTCAGTTTCTCCCAGACATACCTAAATTTTTACATCAATCCTTTTAAAGAAAATCTGTATTTCAAAGAATCTTTCTCTGCAGTAAATCTCGCAGGGGAATTTGCACTAATTACACTTGAAAGTTGTTATTGTTAACCTTTTCGGCAGCAGTTTTAATAGGAAAGTTAAACGTTTTAAACATGGTAGTACTGGAAATTTTACAAGACTTTTACCTAGCACTTAAATATGTATAAATGTACATAAAGACTGAAACTAGTAAGCATGACCTCGGGGAAATGGTCAGACCAGTTGTATTGTGTTTTTGGCCTTGAAAGTAGCAAGTGACCAGAATCTGCCATGGCAACAGGCTTTAAAAAAAAGACCCTTAAAAAGACACTGTCTCAACTGTGCCGTGTTAGCACCAGCCAGCTCTCTGTACATTTCGGCTAGCTTGTAGTTTTCTAAGACTGAGTAAACTTCTTATTTTTAGAAAGTGGAGGTCTGGTTTGTAACTTTCCTTGTACTTAATTGGGTAAAAGTCATTTTCCACAAACCACCATCTATTTTGTGAACTTTGTTAGTCATCTTTTATTTTGGTAAATTATGAACTGGTGTAAATTTGTACAGTTCATGTATATTGATTGTGGCAAAGTTGTACAGATTTCTATATTTTGGATGAGAAATTTTTCTTCTCTCTATAATAAATCGTTTCTTATCTTGGCATTTT\")\n",
        "f'Rat BTG1 protein is {rat_BTG1_dna.translate()}'\n",
        "rat_BTG1_protein = rat_BTG1_dna.translate()\n",
        "from Bio import pairwise2\n",
        "alignments = pairwise2.align.globalxx(human_BTG1_protein, rat_BTG1_protein)\n",
        "from Bio.pairwise2 import format_alignment\n",
        "print(format_alignment(*alignments[0]))\n",
        "#finding the percentage of similar proteins \n",
        "BTG1_Percen_Match = (561/len(rat_BTG1_protein))*100\n",
        "f'Protein match percentage is: {BTG1_Percen_Match}%'"
      ],
      "metadata": {
        "id": "OlTEPNU7TXsQ",
        "colab": {
          "base_uri": "https://localhost:8080/",
          "height": 142
        },
        "outputId": "e92171b3-608b-4096-efb6-d9e12b3ed4e9"
      },
      "execution_count": null,
      "outputs": [
        {
          "output_type": "stream",
          "name": "stdout",
          "text": [
            "MHPFYTRAATMIGEIAAAVSMHPFYT-----RAATMI-GEIAAAV--S-------SQSLQELLAGEXXXXXXXGHGT-RXS-R---GRXX-P---L*GXXXXXXX--V-PGXXSW-----LGXXXXXXXXXX---G-----GXXXXXXXXXXX-------G-------------L-G--GRAPXXXXXXXXXXXX--------G---T-RTTKDPKRCD-----AXX--LRP--DGYRRV---GEQKTXXGPE-S--GXX---VPSAXR------SPR--PLRG-SAAELLSGP-PF----L*---PXX--PARD--GRARA--PHL-LL-LPINHRICHRYNXX-N---PAQIL-V-*SF--LVFF-PL-GLTDQ--WRFLT--PKP*SLLYATPV-----G-VEKVNR-FP-PG-RLCLX--ASWPSR-A-ARA--IPVX-GGSTGQYPD------S--VXXXATLRXXXXXXXXFS---IRSXXRKSE----FS-P------G----HL*-KLVV-L-VF--ASP-RS--*QEEEST-VRLNGS----KH-CFCXXX--FP--ST--EHYKHHWFPEKPCKGSGYRCIRINHKMDPLIGQAAQRIGLSSQELFRLLPSELTLWVDPYEVSYRIGEDGSICVLYEASPAGGSS-QNSTNVQMVDSRISCKEELLLGRTSPSKNYNMMTVSG*DIVY-GWIIL*X--MDR-FX-FLLWVGSSWGWIMEXX--NHVTAVKIWHKIEW**FF----FL*VTVP*FGQYL*VXX----I*V--ACESK*R-ITLFG-RE*-SR-RVVSVSPRHTQ--FVTPVP--LR-KF--CISKNPL-LQ--STLQGNLHX-LHLKVTS---NFF-FGSXX--NRKAQCS-K---HGSTGNI-TRLLPST*K-CINVHKDXT*Y---A*PX-GNGQTXXX---VFLALR-VASDR-NLP*-QQAXXX---RPLQ-RHCLNCXX--LAPASSLYIXXX---L*FSKI-E*TSYF*KVEVWFVTFLVLNWVR-VX-FHKPPSIL*TLLVIFYX-GKL*TGVNLYSSCILIVAKLYRFLYFG*EIFLLSIINC-FLSWHF\n",
            "||||||||||||||||||||   |       |  |   |        |       |||||||||||            |   |   ||   |   | |         | |   |      ||             |     |                  |             | |  ||||                    |   | ||||  |        |    ||   |  ||    | |        |  |     |    |      ||   |||  |||       |     |    |    ||    |  ||  |   || ||||||||||     |   |||   | |    | || |  |||    |||    ||| |    ||      | |||||  |  || | |    |   || | | |  |||  |||||          |  |     |              | |   |      || |      |    |   |    | ||  | | ||  |  |||  |   |     |  ||      |   |   ||||||||||||||||||||||||||||||||||||||||||||||||||||||||||||||||||||||||||||||||||| | |||||||||||||||||||||||||||||||||||||||||  |||| |   ||  |  ||||||||||||||    |||||||||||||| |      | |||||||||||        |    ||||||  ||||  ||  |  ||||||||||   | |     |  |   ||||| | ||  |  |||||  |||||     |   |||    |||     |   ||||||  ||||||||  |||||||  |    |||  |||||      |||||  ||||  |||  |||      |||  ||||||    |||||||||      |||||  ||||||||||||||||||||||  |  ||||||||||||||||  |||||||||||||||||||||||||||||||||||||  ||||||\n",
            "MHPFYTRAATMIGEIAAAVS---F--ISKFLR--T--KG------LTSERQLQTFSQSLQELLAGE-----------PR--ARASEGR--GPQPSL-G-------QRVRP---S-GPCGNLG----------SAPGRRSRLG-----------PPPRDRCGCAGWPR*QRFPARL*GLDGRAP------------ALPPSWQNGEEKTTRTTK--K---LKPTEA--VELR-SED--RR-RIWG-Q-------RSRLG--LGWV----RYVPFPVSP-LQPLR-WSAA------QP-RGGKL-RRCP--VEPA--QNG--RAVSP--RLLPLPINHRICHR----HN*YSPAQ--SVV*--GCL-FFFP-SGLT--VRWRF--SSPKP-S----TP-LCAIWGGVEKVN-SF-SPGHR-C--QVA---SRLAEA-ARLIPV-LGGSTG----WFLEIVSCPV-----L-----------LC*I-S---K--TLPAFSIPADMHNNGCNPGH--FK---KLIVFIFA-PQRSLG*--EES-AV---G-ANDPK-RCF----SKF-FFS-SIEHYKHHWFPEKPCKGSGYRCIRINHKMDPLIGQAAQRIGLSSQELFRLLPSELTLWVDPYEVSYRIGEDGSICVLYEASPAGG-STQNSTNVQMVDSRISCKEELLLGRTSPSKNYNMMTVSG*DIV-CGWII-*-*SMD-KF-EFLLWVGSSWGWIME--LLNHVTAVKIWHKIEW-*--KKKKF-*VTVP*FGQYL----SMSLI--LIACESK*-MITLF-ARE-GS-PRVVSVSPRHT-*IF-T---SIL-LK-KICISKN-LSLQ*IS--QGNLH-*LHLKV--VIVN--LFGS--SFNRK----VKRFKHGSTGN-FTRLLPST*-ICINVHKD--*-N**A*P-RGNGQT---SCIVFLAL-KVASD-QNLP-WQQA---LKKRPL-KRHCLNC--AVLAPASSLYI---SASL*FSK-TE*TSYF*KVEVWFVTFLVLNWV-KV-IFHKPPSIL*TLLVIFY-FGKL*TGVNLYSSCILIVAKLYRFLYFG*EIFLLSIIN-RFLSWHF\n",
            "  Score=561\n",
            "\n"
          ]
        },
        {
          "output_type": "execute_result",
          "data": {
            "application/vnd.google.colaboratory.intrinsic+json": {
              "type": "string"
            },
            "text/plain": [
              "'Protein match percentage is: 68.08252427184466%'"
            ]
          },
          "metadata": {},
          "execution_count": 7
        }
      ]
    }
  ]
}